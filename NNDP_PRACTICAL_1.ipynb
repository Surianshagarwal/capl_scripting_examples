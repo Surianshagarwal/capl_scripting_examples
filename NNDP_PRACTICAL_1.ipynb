{
  "nbformat": 4,
  "nbformat_minor": 0,
  "metadata": {
    "colab": {
      "provenance": [],
      "authorship_tag": "ABX9TyMP7XYoArQg2vNFD3dXt1AF",
      "include_colab_link": true
    },
    "kernelspec": {
      "name": "python3",
      "display_name": "Python 3"
    },
    "language_info": {
      "name": "python"
    }
  },
  "cells": [
    {
      "cell_type": "markdown",
      "metadata": {
        "id": "view-in-github",
        "colab_type": "text"
      },
      "source": [
        "<a href=\"https://colab.research.google.com/github/Surianshagarwal/capl_scripting_examples/blob/main/NNDP_PRACTICAL_1.ipynb\" target=\"_parent\"><img src=\"https://colab.research.google.com/assets/colab-badge.svg\" alt=\"Open In Colab\"/></a>"
      ]
    },
    {
      "cell_type": "code",
      "execution_count": 1,
      "metadata": {
        "colab": {
          "base_uri": "https://localhost:8080/"
        },
        "id": "_Zu6KLpqW4YR",
        "outputId": "1c4e57f7-efca-4ad5-c189-8e070012c659"
      },
      "outputs": [
        {
          "output_type": "stream",
          "name": "stdout",
          "text": [
            "Tensorflow2.19.0\n"
          ]
        }
      ],
      "source": [
        "import tensorflow as tf\n",
        "print(f\"Tensorflow{tf.__version__}\")"
      ]
    },
    {
      "cell_type": "code",
      "source": [
        "#only for local system\n",
        "!pip install tensorflow"
      ],
      "metadata": {
        "colab": {
          "base_uri": "https://localhost:8080/"
        },
        "id": "cKLA_HPgYAT2",
        "outputId": "a6a50f13-af2c-4d11-8d3d-ad9b0b5221eb"
      },
      "execution_count": 2,
      "outputs": [
        {
          "output_type": "stream",
          "name": "stdout",
          "text": [
            "Requirement already satisfied: tensorflow in /usr/local/lib/python3.12/dist-packages (2.19.0)\n",
            "Requirement already satisfied: absl-py>=1.0.0 in /usr/local/lib/python3.12/dist-packages (from tensorflow) (1.4.0)\n",
            "Requirement already satisfied: astunparse>=1.6.0 in /usr/local/lib/python3.12/dist-packages (from tensorflow) (1.6.3)\n",
            "Requirement already satisfied: flatbuffers>=24.3.25 in /usr/local/lib/python3.12/dist-packages (from tensorflow) (25.9.23)\n",
            "Requirement already satisfied: gast!=0.5.0,!=0.5.1,!=0.5.2,>=0.2.1 in /usr/local/lib/python3.12/dist-packages (from tensorflow) (0.6.0)\n",
            "Requirement already satisfied: google-pasta>=0.1.1 in /usr/local/lib/python3.12/dist-packages (from tensorflow) (0.2.0)\n",
            "Requirement already satisfied: libclang>=13.0.0 in /usr/local/lib/python3.12/dist-packages (from tensorflow) (18.1.1)\n",
            "Requirement already satisfied: opt-einsum>=2.3.2 in /usr/local/lib/python3.12/dist-packages (from tensorflow) (3.4.0)\n",
            "Requirement already satisfied: packaging in /usr/local/lib/python3.12/dist-packages (from tensorflow) (25.0)\n",
            "Requirement already satisfied: protobuf!=4.21.0,!=4.21.1,!=4.21.2,!=4.21.3,!=4.21.4,!=4.21.5,<6.0.0dev,>=3.20.3 in /usr/local/lib/python3.12/dist-packages (from tensorflow) (5.29.5)\n",
            "Requirement already satisfied: requests<3,>=2.21.0 in /usr/local/lib/python3.12/dist-packages (from tensorflow) (2.32.4)\n",
            "Requirement already satisfied: setuptools in /usr/local/lib/python3.12/dist-packages (from tensorflow) (75.2.0)\n",
            "Requirement already satisfied: six>=1.12.0 in /usr/local/lib/python3.12/dist-packages (from tensorflow) (1.17.0)\n",
            "Requirement already satisfied: termcolor>=1.1.0 in /usr/local/lib/python3.12/dist-packages (from tensorflow) (3.1.0)\n",
            "Requirement already satisfied: typing-extensions>=3.6.6 in /usr/local/lib/python3.12/dist-packages (from tensorflow) (4.15.0)\n",
            "Requirement already satisfied: wrapt>=1.11.0 in /usr/local/lib/python3.12/dist-packages (from tensorflow) (1.17.3)\n",
            "Requirement already satisfied: grpcio<2.0,>=1.24.3 in /usr/local/lib/python3.12/dist-packages (from tensorflow) (1.75.1)\n",
            "Requirement already satisfied: tensorboard~=2.19.0 in /usr/local/lib/python3.12/dist-packages (from tensorflow) (2.19.0)\n",
            "Requirement already satisfied: keras>=3.5.0 in /usr/local/lib/python3.12/dist-packages (from tensorflow) (3.10.0)\n",
            "Requirement already satisfied: numpy<2.2.0,>=1.26.0 in /usr/local/lib/python3.12/dist-packages (from tensorflow) (2.0.2)\n",
            "Requirement already satisfied: h5py>=3.11.0 in /usr/local/lib/python3.12/dist-packages (from tensorflow) (3.14.0)\n",
            "Requirement already satisfied: ml-dtypes<1.0.0,>=0.5.1 in /usr/local/lib/python3.12/dist-packages (from tensorflow) (0.5.3)\n",
            "Requirement already satisfied: wheel<1.0,>=0.23.0 in /usr/local/lib/python3.12/dist-packages (from astunparse>=1.6.0->tensorflow) (0.45.1)\n",
            "Requirement already satisfied: rich in /usr/local/lib/python3.12/dist-packages (from keras>=3.5.0->tensorflow) (13.9.4)\n",
            "Requirement already satisfied: namex in /usr/local/lib/python3.12/dist-packages (from keras>=3.5.0->tensorflow) (0.1.0)\n",
            "Requirement already satisfied: optree in /usr/local/lib/python3.12/dist-packages (from keras>=3.5.0->tensorflow) (0.17.0)\n",
            "Requirement already satisfied: charset_normalizer<4,>=2 in /usr/local/lib/python3.12/dist-packages (from requests<3,>=2.21.0->tensorflow) (3.4.3)\n",
            "Requirement already satisfied: idna<4,>=2.5 in /usr/local/lib/python3.12/dist-packages (from requests<3,>=2.21.0->tensorflow) (3.10)\n",
            "Requirement already satisfied: urllib3<3,>=1.21.1 in /usr/local/lib/python3.12/dist-packages (from requests<3,>=2.21.0->tensorflow) (2.5.0)\n",
            "Requirement already satisfied: certifi>=2017.4.17 in /usr/local/lib/python3.12/dist-packages (from requests<3,>=2.21.0->tensorflow) (2025.10.5)\n",
            "Requirement already satisfied: markdown>=2.6.8 in /usr/local/lib/python3.12/dist-packages (from tensorboard~=2.19.0->tensorflow) (3.9)\n",
            "Requirement already satisfied: tensorboard-data-server<0.8.0,>=0.7.0 in /usr/local/lib/python3.12/dist-packages (from tensorboard~=2.19.0->tensorflow) (0.7.2)\n",
            "Requirement already satisfied: werkzeug>=1.0.1 in /usr/local/lib/python3.12/dist-packages (from tensorboard~=2.19.0->tensorflow) (3.1.3)\n",
            "Requirement already satisfied: MarkupSafe>=2.1.1 in /usr/local/lib/python3.12/dist-packages (from werkzeug>=1.0.1->tensorboard~=2.19.0->tensorflow) (3.0.3)\n",
            "Requirement already satisfied: markdown-it-py>=2.2.0 in /usr/local/lib/python3.12/dist-packages (from rich->keras>=3.5.0->tensorflow) (4.0.0)\n",
            "Requirement already satisfied: pygments<3.0.0,>=2.13.0 in /usr/local/lib/python3.12/dist-packages (from rich->keras>=3.5.0->tensorflow) (2.19.2)\n",
            "Requirement already satisfied: mdurl~=0.1 in /usr/local/lib/python3.12/dist-packages (from markdown-it-py>=2.2.0->rich->keras>=3.5.0->tensorflow) (0.1.2)\n"
          ]
        }
      ]
    },
    {
      "cell_type": "code",
      "source": [
        "#import packages\n",
        "import numpy as np\n",
        "from sklearn.model_selection import train_test_split\n",
        "from sklearn.preprocessing import StandardScaler\n",
        "import matplotlib.pyplot as plt"
      ],
      "metadata": {
        "id": "nRUxqv_5YGte"
      },
      "execution_count": 3,
      "outputs": []
    },
    {
      "cell_type": "code",
      "source": [
        "#load the dataset\n",
        "from keras.datasets import boston_housing\n",
        "(x_train, y_train), (x_test, y_test) = boston_housing.load_data()"
      ],
      "metadata": {
        "colab": {
          "base_uri": "https://localhost:8080/"
        },
        "id": "nHGkXBMyYf1l",
        "outputId": "7e7d5a29-f502-463c-8962-788e1b945af8"
      },
      "execution_count": 5,
      "outputs": [
        {
          "output_type": "stream",
          "name": "stdout",
          "text": [
            "Downloading data from https://storage.googleapis.com/tensorflow/tf-keras-datasets/boston_housing.npz\n",
            "\u001b[1m57026/57026\u001b[0m \u001b[32m━━━━━━━━━━━━━━━━━━━━\u001b[0m\u001b[37m\u001b[0m \u001b[1m0s\u001b[0m 0us/step\n"
          ]
        }
      ]
    },
    {
      "cell_type": "code",
      "source": [
        "#shape of the data\n",
        "print(f\"Training samples : {x_train.shape[0]}\")\n",
        "print(f\"Testing samples : {x_test.shape[0]}\")\n",
        "print(f\"Number of features : {x_train.shape[1]}\")"
      ],
      "metadata": {
        "colab": {
          "base_uri": "https://localhost:8080/"
        },
        "id": "5DsJBqRdZWFM",
        "outputId": "8d80d8d7-79d1-4014-8a3c-68783b46d261"
      },
      "execution_count": 7,
      "outputs": [
        {
          "output_type": "stream",
          "name": "stdout",
          "text": [
            "Training samples : 404\n",
            "Testing samples : 102\n",
            "Number of features : 13\n"
          ]
        }
      ]
    },
    {
      "cell_type": "code",
      "source": [
        "#normalize the features\n",
        "scaler = StandardScaler()\n",
        "x_train = scaler.fit_transform(x_train)\n",
        "x_test = scaler.transform(x_test)"
      ],
      "metadata": {
        "id": "ArXzrAdZZjOl"
      },
      "execution_count": 8,
      "outputs": []
    },
    {
      "cell_type": "code",
      "source": [
        "#split the data into trai validation\n",
        "x_train, x_val, y_train, y_val = train_test_split(x_train, y_train, test_size=0.2, random_state=42)"
      ],
      "metadata": {
        "id": "zVJvL4nJansO"
      },
      "execution_count": 9,
      "outputs": []
    },
    {
      "cell_type": "code",
      "source": [
        "model = tf.keras.Sequential([\n",
        "    tf.keras.layers.Dense(64, activation='relu', input_shape=(13,)),\n",
        "    tf.keras.layers.Dropout(0.2),\n",
        "\n",
        "    tf.keras.layers.Dense(32, activation='relu'),\n",
        "    tf.keras.layers.Dropout(0.2),\n",
        "\n",
        "    tf.keras.layers.Dense(16, activation='relu'),\n",
        "    tf.keras.layers.Dropout(0.2),\n",
        "\n",
        "    #output\n",
        "    tf.keras.layers.Dense(1)\n",
        "])"
      ],
      "metadata": {
        "colab": {
          "base_uri": "https://localhost:8080/"
        },
        "id": "H53BOUx3bNSx",
        "outputId": "de3c7855-4ce1-4a1a-aaaa-96a4616210c1"
      },
      "execution_count": 13,
      "outputs": [
        {
          "output_type": "stream",
          "name": "stderr",
          "text": [
            "/usr/local/lib/python3.12/dist-packages/keras/src/layers/core/dense.py:93: UserWarning: Do not pass an `input_shape`/`input_dim` argument to a layer. When using Sequential models, prefer using an `Input(shape)` object as the first layer in the model instead.\n",
            "  super().__init__(activity_regularizer=activity_regularizer, **kwargs)\n"
          ]
        }
      ]
    },
    {
      "cell_type": "code",
      "source": [
        "model.compile(optimizer='adam', loss='huber', metrics=['mae'])"
      ],
      "metadata": {
        "id": "1Xp-35d5gP3u"
      },
      "execution_count": 14,
      "outputs": []
    },
    {
      "cell_type": "code",
      "source": [
        "history = model.fit(\n",
        "    x_train, y_train,\n",
        "    epochs=100,\n",
        "    batch_size=32,\n",
        "    validation_data=(x_val, y_val),\n",
        "    verbose = 2\n",
        ")"
      ],
      "metadata": {
        "colab": {
          "base_uri": "https://localhost:8080/"
        },
        "id": "jpXyfO33g7yb",
        "outputId": "3fbfecf6-44da-42c8-aaa4-460f1386918f"
      },
      "execution_count": 17,
      "outputs": [
        {
          "output_type": "stream",
          "name": "stdout",
          "text": [
            "Epoch 1/100\n",
            "11/11 - 0s - 12ms/step - loss: 3.7256 - mae: 4.1868 - val_loss: 1.9526 - val_mae: 2.4250\n",
            "Epoch 2/100\n",
            "11/11 - 0s - 9ms/step - loss: 3.5184 - mae: 3.9903 - val_loss: 1.9609 - val_mae: 2.4296\n",
            "Epoch 3/100\n",
            "11/11 - 0s - 9ms/step - loss: 3.7885 - mae: 4.2656 - val_loss: 1.9704 - val_mae: 2.4349\n",
            "Epoch 4/100\n",
            "11/11 - 0s - 9ms/step - loss: 3.6693 - mae: 4.1420 - val_loss: 1.8047 - val_mae: 2.2540\n",
            "Epoch 5/100\n",
            "11/11 - 0s - 9ms/step - loss: 3.7466 - mae: 4.2145 - val_loss: 1.8077 - val_mae: 2.2488\n",
            "Epoch 6/100\n",
            "11/11 - 0s - 12ms/step - loss: 3.6076 - mae: 4.0770 - val_loss: 1.7507 - val_mae: 2.2015\n",
            "Epoch 7/100\n",
            "11/11 - 0s - 9ms/step - loss: 3.7039 - mae: 4.1805 - val_loss: 1.9410 - val_mae: 2.3858\n",
            "Epoch 8/100\n",
            "11/11 - 0s - 8ms/step - loss: 3.5910 - mae: 4.0640 - val_loss: 1.7457 - val_mae: 2.1924\n",
            "Epoch 9/100\n",
            "11/11 - 0s - 9ms/step - loss: 3.6478 - mae: 4.1184 - val_loss: 1.7343 - val_mae: 2.1780\n",
            "Epoch 10/100\n",
            "11/11 - 0s - 9ms/step - loss: 3.4631 - mae: 3.9300 - val_loss: 1.7339 - val_mae: 2.1888\n",
            "Epoch 11/100\n",
            "11/11 - 0s - 9ms/step - loss: 3.4678 - mae: 3.9388 - val_loss: 1.6972 - val_mae: 2.1442\n",
            "Epoch 12/100\n",
            "11/11 - 0s - 12ms/step - loss: 3.3941 - mae: 3.8577 - val_loss: 1.7081 - val_mae: 2.1604\n",
            "Epoch 13/100\n",
            "11/11 - 0s - 9ms/step - loss: 3.4264 - mae: 3.8964 - val_loss: 1.7843 - val_mae: 2.2420\n",
            "Epoch 14/100\n",
            "11/11 - 0s - 9ms/step - loss: 3.8987 - mae: 4.3676 - val_loss: 1.7653 - val_mae: 2.2197\n",
            "Epoch 15/100\n",
            "11/11 - 0s - 9ms/step - loss: 3.5182 - mae: 3.9935 - val_loss: 1.7686 - val_mae: 2.2169\n",
            "Epoch 16/100\n",
            "11/11 - 0s - 10ms/step - loss: 3.7068 - mae: 4.1788 - val_loss: 1.7270 - val_mae: 2.1767\n",
            "Epoch 17/100\n",
            "11/11 - 0s - 9ms/step - loss: 3.8848 - mae: 4.3519 - val_loss: 1.6301 - val_mae: 2.0898\n",
            "Epoch 18/100\n",
            "11/11 - 0s - 9ms/step - loss: 3.5611 - mae: 4.0369 - val_loss: 1.7882 - val_mae: 2.2414\n",
            "Epoch 19/100\n",
            "11/11 - 0s - 9ms/step - loss: 3.5944 - mae: 4.0722 - val_loss: 1.7185 - val_mae: 2.1682\n",
            "Epoch 20/100\n",
            "11/11 - 0s - 9ms/step - loss: 3.5107 - mae: 3.9824 - val_loss: 1.6158 - val_mae: 2.0712\n",
            "Epoch 21/100\n",
            "11/11 - 0s - 9ms/step - loss: 3.2791 - mae: 3.7396 - val_loss: 1.7195 - val_mae: 2.1689\n",
            "Epoch 22/100\n",
            "11/11 - 0s - 9ms/step - loss: 3.4986 - mae: 3.9618 - val_loss: 1.7032 - val_mae: 2.1558\n",
            "Epoch 23/100\n",
            "11/11 - 0s - 9ms/step - loss: 3.4841 - mae: 3.9553 - val_loss: 1.7574 - val_mae: 2.2140\n",
            "Epoch 24/100\n",
            "11/11 - 0s - 9ms/step - loss: 3.9449 - mae: 4.4157 - val_loss: 1.8005 - val_mae: 2.2537\n",
            "Epoch 25/100\n",
            "11/11 - 0s - 9ms/step - loss: 3.3662 - mae: 3.8224 - val_loss: 1.8209 - val_mae: 2.2719\n",
            "Epoch 26/100\n",
            "11/11 - 0s - 10ms/step - loss: 3.6402 - mae: 4.1107 - val_loss: 1.5787 - val_mae: 2.0274\n",
            "Epoch 27/100\n",
            "11/11 - 0s - 9ms/step - loss: 3.6301 - mae: 4.0997 - val_loss: 1.6631 - val_mae: 2.1144\n",
            "Epoch 28/100\n",
            "11/11 - 0s - 9ms/step - loss: 3.3090 - mae: 3.7767 - val_loss: 1.6518 - val_mae: 2.0992\n",
            "Epoch 29/100\n",
            "11/11 - 0s - 9ms/step - loss: 3.3314 - mae: 3.7884 - val_loss: 1.6408 - val_mae: 2.0594\n",
            "Epoch 30/100\n",
            "11/11 - 0s - 9ms/step - loss: 3.4832 - mae: 3.9511 - val_loss: 1.6891 - val_mae: 2.1283\n",
            "Epoch 31/100\n",
            "11/11 - 0s - 9ms/step - loss: 3.5961 - mae: 4.0695 - val_loss: 1.6381 - val_mae: 2.0759\n",
            "Epoch 32/100\n",
            "11/11 - 0s - 9ms/step - loss: 3.4533 - mae: 3.9197 - val_loss: 1.7001 - val_mae: 2.1311\n",
            "Epoch 33/100\n",
            "11/11 - 0s - 9ms/step - loss: 3.4749 - mae: 3.9378 - val_loss: 1.7936 - val_mae: 2.2311\n",
            "Epoch 34/100\n",
            "11/11 - 0s - 9ms/step - loss: 3.2561 - mae: 3.7303 - val_loss: 1.8090 - val_mae: 2.2686\n",
            "Epoch 35/100\n",
            "11/11 - 0s - 9ms/step - loss: 3.1674 - mae: 3.6349 - val_loss: 1.7956 - val_mae: 2.2502\n",
            "Epoch 36/100\n",
            "11/11 - 0s - 10ms/step - loss: 3.5250 - mae: 4.0009 - val_loss: 1.7357 - val_mae: 2.1911\n",
            "Epoch 37/100\n",
            "11/11 - 0s - 9ms/step - loss: 3.3281 - mae: 3.8049 - val_loss: 1.7458 - val_mae: 2.1964\n",
            "Epoch 38/100\n",
            "11/11 - 0s - 9ms/step - loss: 3.3957 - mae: 3.8655 - val_loss: 1.8586 - val_mae: 2.2988\n",
            "Epoch 39/100\n",
            "11/11 - 0s - 9ms/step - loss: 3.4573 - mae: 3.9268 - val_loss: 1.6504 - val_mae: 2.0990\n",
            "Epoch 40/100\n",
            "11/11 - 0s - 9ms/step - loss: 3.5242 - mae: 3.9951 - val_loss: 1.5743 - val_mae: 2.0122\n",
            "Epoch 41/100\n",
            "11/11 - 0s - 9ms/step - loss: 3.2566 - mae: 3.7294 - val_loss: 1.5779 - val_mae: 2.0169\n",
            "Epoch 42/100\n",
            "11/11 - 0s - 9ms/step - loss: 3.3458 - mae: 3.8157 - val_loss: 1.6750 - val_mae: 2.1214\n",
            "Epoch 43/100\n",
            "11/11 - 0s - 10ms/step - loss: 3.6390 - mae: 4.1113 - val_loss: 1.6717 - val_mae: 2.1230\n",
            "Epoch 44/100\n",
            "11/11 - 0s - 9ms/step - loss: 3.3771 - mae: 3.8502 - val_loss: 1.7752 - val_mae: 2.2231\n",
            "Epoch 45/100\n",
            "11/11 - 0s - 9ms/step - loss: 3.4274 - mae: 3.8917 - val_loss: 1.7730 - val_mae: 2.2191\n",
            "Epoch 46/100\n",
            "11/11 - 0s - 10ms/step - loss: 3.4811 - mae: 3.9510 - val_loss: 1.7182 - val_mae: 2.1710\n",
            "Epoch 47/100\n",
            "11/11 - 0s - 9ms/step - loss: 3.2708 - mae: 3.7377 - val_loss: 1.7469 - val_mae: 2.1952\n",
            "Epoch 48/100\n",
            "11/11 - 0s - 9ms/step - loss: 3.5730 - mae: 4.0372 - val_loss: 1.6965 - val_mae: 2.1377\n",
            "Epoch 49/100\n",
            "11/11 - 0s - 9ms/step - loss: 3.5921 - mae: 4.0632 - val_loss: 1.6631 - val_mae: 2.1062\n",
            "Epoch 50/100\n",
            "11/11 - 0s - 9ms/step - loss: 3.5372 - mae: 4.0014 - val_loss: 1.7793 - val_mae: 2.2208\n",
            "Epoch 51/100\n",
            "11/11 - 0s - 9ms/step - loss: 3.4163 - mae: 3.8866 - val_loss: 1.6137 - val_mae: 2.0545\n",
            "Epoch 52/100\n",
            "11/11 - 0s - 9ms/step - loss: 3.5804 - mae: 4.0527 - val_loss: 1.6649 - val_mae: 2.0848\n",
            "Epoch 53/100\n",
            "11/11 - 0s - 9ms/step - loss: 3.4284 - mae: 3.8958 - val_loss: 1.8138 - val_mae: 2.2656\n",
            "Epoch 54/100\n",
            "11/11 - 0s - 9ms/step - loss: 3.4046 - mae: 3.8761 - val_loss: 1.8122 - val_mae: 2.2709\n",
            "Epoch 55/100\n",
            "11/11 - 0s - 13ms/step - loss: 3.4137 - mae: 3.8857 - val_loss: 1.8242 - val_mae: 2.2742\n",
            "Epoch 56/100\n",
            "11/11 - 0s - 9ms/step - loss: 3.6684 - mae: 4.1375 - val_loss: 1.9129 - val_mae: 2.3815\n",
            "Epoch 57/100\n",
            "11/11 - 0s - 9ms/step - loss: 3.8292 - mae: 4.3015 - val_loss: 1.6884 - val_mae: 2.1402\n",
            "Epoch 58/100\n",
            "11/11 - 0s - 9ms/step - loss: 3.7443 - mae: 4.2115 - val_loss: 1.8472 - val_mae: 2.3132\n",
            "Epoch 59/100\n",
            "11/11 - 0s - 9ms/step - loss: 3.3740 - mae: 3.8391 - val_loss: 1.8140 - val_mae: 2.2417\n",
            "Epoch 60/100\n",
            "11/11 - 0s - 9ms/step - loss: 3.4896 - mae: 3.9522 - val_loss: 1.8162 - val_mae: 2.2684\n",
            "Epoch 61/100\n",
            "11/11 - 0s - 9ms/step - loss: 3.5961 - mae: 4.0709 - val_loss: 1.8133 - val_mae: 2.2607\n",
            "Epoch 62/100\n",
            "11/11 - 0s - 10ms/step - loss: 3.4617 - mae: 3.9315 - val_loss: 1.7036 - val_mae: 2.1524\n",
            "Epoch 63/100\n",
            "11/11 - 0s - 12ms/step - loss: 3.4199 - mae: 3.8862 - val_loss: 1.6652 - val_mae: 2.0991\n",
            "Epoch 64/100\n",
            "11/11 - 0s - 9ms/step - loss: 3.2278 - mae: 3.7017 - val_loss: 1.8261 - val_mae: 2.2728\n",
            "Epoch 65/100\n",
            "11/11 - 0s - 10ms/step - loss: 3.3229 - mae: 3.7833 - val_loss: 1.6519 - val_mae: 2.0905\n",
            "Epoch 66/100\n",
            "11/11 - 0s - 9ms/step - loss: 3.3814 - mae: 3.8507 - val_loss: 1.8058 - val_mae: 2.2689\n",
            "Epoch 67/100\n",
            "11/11 - 0s - 9ms/step - loss: 3.5231 - mae: 3.9960 - val_loss: 1.9375 - val_mae: 2.3992\n",
            "Epoch 68/100\n",
            "11/11 - 0s - 14ms/step - loss: 3.6971 - mae: 4.1720 - val_loss: 1.6207 - val_mae: 2.0552\n",
            "Epoch 69/100\n",
            "11/11 - 0s - 17ms/step - loss: 3.7905 - mae: 4.2593 - val_loss: 1.6182 - val_mae: 2.0674\n",
            "Epoch 70/100\n",
            "11/11 - 0s - 14ms/step - loss: 3.3715 - mae: 3.8406 - val_loss: 1.9943 - val_mae: 2.4314\n",
            "Epoch 71/100\n",
            "11/11 - 0s - 14ms/step - loss: 3.4512 - mae: 3.9210 - val_loss: 1.7476 - val_mae: 2.2127\n",
            "Epoch 72/100\n",
            "11/11 - 0s - 27ms/step - loss: 3.5535 - mae: 4.0210 - val_loss: 1.8120 - val_mae: 2.2506\n",
            "Epoch 73/100\n",
            "11/11 - 0s - 13ms/step - loss: 3.4576 - mae: 3.9267 - val_loss: 1.9828 - val_mae: 2.4246\n",
            "Epoch 74/100\n",
            "11/11 - 0s - 13ms/step - loss: 3.3301 - mae: 3.7973 - val_loss: 1.7369 - val_mae: 2.1953\n",
            "Epoch 75/100\n",
            "11/11 - 0s - 28ms/step - loss: 3.6068 - mae: 4.0854 - val_loss: 1.6791 - val_mae: 2.1129\n",
            "Epoch 76/100\n",
            "11/11 - 0s - 13ms/step - loss: 3.5103 - mae: 3.9683 - val_loss: 1.8069 - val_mae: 2.2800\n",
            "Epoch 77/100\n",
            "11/11 - 0s - 18ms/step - loss: 3.2037 - mae: 3.6588 - val_loss: 1.7711 - val_mae: 2.2377\n",
            "Epoch 78/100\n",
            "11/11 - 0s - 17ms/step - loss: 3.2627 - mae: 3.7243 - val_loss: 1.6912 - val_mae: 2.1420\n",
            "Epoch 79/100\n",
            "11/11 - 0s - 10ms/step - loss: 3.3810 - mae: 3.8522 - val_loss: 1.8586 - val_mae: 2.3278\n",
            "Epoch 80/100\n",
            "11/11 - 0s - 9ms/step - loss: 3.4582 - mae: 3.9327 - val_loss: 1.7546 - val_mae: 2.2129\n",
            "Epoch 81/100\n",
            "11/11 - 0s - 9ms/step - loss: 3.4773 - mae: 3.9493 - val_loss: 1.7211 - val_mae: 2.1478\n",
            "Epoch 82/100\n",
            "11/11 - 0s - 9ms/step - loss: 3.3606 - mae: 3.8328 - val_loss: 1.7020 - val_mae: 2.1502\n",
            "Epoch 83/100\n",
            "11/11 - 0s - 9ms/step - loss: 3.2961 - mae: 3.7695 - val_loss: 1.7364 - val_mae: 2.1950\n",
            "Epoch 84/100\n",
            "11/11 - 0s - 9ms/step - loss: 3.2673 - mae: 3.7327 - val_loss: 1.8531 - val_mae: 2.3187\n",
            "Epoch 85/100\n",
            "11/11 - 0s - 10ms/step - loss: 3.5780 - mae: 4.0449 - val_loss: 1.8910 - val_mae: 2.3565\n",
            "Epoch 86/100\n",
            "11/11 - 0s - 9ms/step - loss: 3.4701 - mae: 3.9490 - val_loss: 1.8129 - val_mae: 2.2767\n",
            "Epoch 87/100\n",
            "11/11 - 0s - 9ms/step - loss: 3.2467 - mae: 3.7154 - val_loss: 1.8129 - val_mae: 2.2871\n",
            "Epoch 88/100\n",
            "11/11 - 0s - 9ms/step - loss: 3.6344 - mae: 4.1012 - val_loss: 1.8405 - val_mae: 2.3067\n",
            "Epoch 89/100\n",
            "11/11 - 0s - 9ms/step - loss: 3.6153 - mae: 4.0908 - val_loss: 1.7364 - val_mae: 2.1953\n",
            "Epoch 90/100\n",
            "11/11 - 0s - 9ms/step - loss: 3.4229 - mae: 3.8823 - val_loss: 1.6944 - val_mae: 2.1564\n",
            "Epoch 91/100\n",
            "11/11 - 0s - 9ms/step - loss: 3.3614 - mae: 3.8316 - val_loss: 1.7137 - val_mae: 2.1728\n",
            "Epoch 92/100\n",
            "11/11 - 0s - 9ms/step - loss: 3.2131 - mae: 3.6857 - val_loss: 1.9660 - val_mae: 2.4103\n",
            "Epoch 93/100\n",
            "11/11 - 0s - 9ms/step - loss: 3.6826 - mae: 4.1549 - val_loss: 1.7891 - val_mae: 2.2464\n",
            "Epoch 94/100\n",
            "11/11 - 0s - 9ms/step - loss: 3.5478 - mae: 4.0174 - val_loss: 1.7605 - val_mae: 2.1863\n",
            "Epoch 95/100\n",
            "11/11 - 0s - 10ms/step - loss: 3.5465 - mae: 4.0222 - val_loss: 1.8044 - val_mae: 2.2646\n",
            "Epoch 96/100\n",
            "11/11 - 0s - 9ms/step - loss: 3.6332 - mae: 4.1042 - val_loss: 2.0075 - val_mae: 2.4525\n",
            "Epoch 97/100\n",
            "11/11 - 0s - 9ms/step - loss: 3.2277 - mae: 3.6933 - val_loss: 1.8664 - val_mae: 2.3228\n",
            "Epoch 98/100\n",
            "11/11 - 0s - 8ms/step - loss: 3.2481 - mae: 3.7164 - val_loss: 1.8072 - val_mae: 2.2580\n",
            "Epoch 99/100\n",
            "11/11 - 0s - 9ms/step - loss: 3.1653 - mae: 3.6233 - val_loss: 1.8629 - val_mae: 2.3082\n",
            "Epoch 100/100\n",
            "11/11 - 0s - 9ms/step - loss: 3.3246 - mae: 3.7904 - val_loss: 1.9565 - val_mae: 2.4023\n"
          ]
        }
      ]
    },
    {
      "cell_type": "code",
      "source": [
        "#evaluate the value\n",
        "test_loss, test_mae = model.evaluate(x_test, y_test, verbose = 2)\n",
        "print(f\"Test Loss MSE: {test_loss}\")\n",
        "print(f\"Test MAE: {test_mae}\")"
      ],
      "metadata": {
        "colab": {
          "base_uri": "https://localhost:8080/"
        },
        "id": "kjo5n4hrg7vp",
        "outputId": "72ac2874-ffec-451c-86b9-9731ae34241c"
      },
      "execution_count": 19,
      "outputs": [
        {
          "output_type": "stream",
          "name": "stdout",
          "text": [
            "4/4 - 0s - 10ms/step - loss: 2.5447 - mae: 3.0123\n",
            "Test Loss MSE: 2.5446836948394775\n",
            "Test MAE: 3.012303352355957\n"
          ]
        }
      ]
    },
    {
      "cell_type": "code",
      "source": [
        "#prediction\n",
        "predictions = model.predict(x_test[:5])\n",
        "print('sample pridiction vs actual')\n",
        "\n",
        "for i in range(5):\n",
        "    print(f\"Predicted: {predictions[i][0]}, Actual: {y_test[i]}\")"
      ],
      "metadata": {
        "colab": {
          "base_uri": "https://localhost:8080/"
        },
        "id": "PSsw3S8skGQd",
        "outputId": "6406e09f-26a1-4eba-c3ae-89125ece9b28"
      },
      "execution_count": 20,
      "outputs": [
        {
          "output_type": "stream",
          "name": "stdout",
          "text": [
            "\u001b[1m1/1\u001b[0m \u001b[32m━━━━━━━━━━━━━━━━━━━━\u001b[0m\u001b[37m\u001b[0m \u001b[1m0s\u001b[0m 71ms/step\n",
            "sample pridiction vs actual\n",
            "Predicted: 9.31710433959961, Actual: 7.2\n",
            "Predicted: 17.46282386779785, Actual: 18.8\n",
            "Predicted: 19.43276023864746, Actual: 19.0\n",
            "Predicted: 30.534875869750977, Actual: 27.0\n",
            "Predicted: 22.00002670288086, Actual: 22.2\n"
          ]
        }
      ]
    },
    {
      "cell_type": "code",
      "source": [],
      "metadata": {
        "id": "OjUJNyAKk_BS"
      },
      "execution_count": null,
      "outputs": []
    }
  ]
}