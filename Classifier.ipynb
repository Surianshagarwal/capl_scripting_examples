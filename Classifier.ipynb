{
  "nbformat": 4,
  "nbformat_minor": 0,
  "metadata": {
    "colab": {
      "provenance": [],
      "authorship_tag": "ABX9TyOPEFY0qJQrhsKYR7Ro5Epy",
      "include_colab_link": true
    },
    "kernelspec": {
      "name": "python3",
      "display_name": "Python 3"
    },
    "language_info": {
      "name": "python"
    }
  },
  "cells": [
    {
      "cell_type": "markdown",
      "metadata": {
        "id": "view-in-github",
        "colab_type": "text"
      },
      "source": [
        "<a href=\"https://colab.research.google.com/github/Surianshagarwal/capl_scripting_examples/blob/main/Classifier.ipynb\" target=\"_parent\"><img src=\"https://colab.research.google.com/assets/colab-badge.svg\" alt=\"Open In Colab\"/></a>"
      ]
    },
    {
      "cell_type": "markdown",
      "source": [
        "                                PRACTICAL-5\n",
        "                          NAME : SURYANSH AGARWAL\n",
        "                             REG. NO.: 2482441"
      ],
      "metadata": {
        "id": "iX5FDKUZSohI"
      }
    },
    {
      "cell_type": "code",
      "execution_count": 2,
      "metadata": {
        "colab": {
          "base_uri": "https://localhost:8080/"
        },
        "id": "P_aYQI_IRBDg",
        "outputId": "3f9b7d17-cd4b-4b76-d8a6-0cc38e5bc189"
      },
      "outputs": [
        {
          "output_type": "stream",
          "name": "stdout",
          "text": [
            "=== Part A: Custom Naive Bayes ===\n",
            "\n",
            "Glucose=45, BP=75 => Predicted Diabetes: 1\n",
            "\n",
            "Glucose=60, BP=70 => Predicted Diabetes: 1\n",
            "\n",
            "Glucose=30, BP=80 => Predicted Diabetes: 1\n",
            "\n",
            "Glucose=20, BP=85 => Predicted Diabetes: 1\n"
          ]
        }
      ],
      "source": [
        "import pandas as pd\n",
        "import math\n",
        "\n",
        "# Load your dataset\n",
        "df = pd.read_csv(\"Naive_Bayes.csv\")\n",
        "\n",
        "# Gaussian probability calculation\n",
        "def gaussian_prob(x, mean, std):\n",
        "    if std == 0:\n",
        "        return 0\n",
        "    exponent = math.exp(-((x - mean) ** 2) / (2 * std ** 2))\n",
        "    return (1 / (math.sqrt(2 * math.pi) * std)) * exponent\n",
        "\n",
        "# Separate data by class\n",
        "class_0 = df[df['diabetes'] == 0]\n",
        "class_1 = df[df['diabetes'] == 1]\n",
        "\n",
        "# Calculate prior probabilities\n",
        "prior_0 = len(class_0) / len(df)\n",
        "prior_1 = len(class_1) / len(df)\n",
        "\n",
        "# Calculate mean and std for each class\n",
        "stats = {}\n",
        "for feature in ['glucose', 'bloodpressure']:\n",
        "    stats[feature] = {\n",
        "        0: (class_0[feature].mean(), class_0[feature].std()),\n",
        "        1: (class_1[feature].mean(), class_1[feature].std())\n",
        "    }\n",
        "\n",
        "# Naive Bayes prediction function\n",
        "def predict_naive_bayes(glucose, bp):\n",
        "    probs = {}\n",
        "    for cls in [0, 1]:\n",
        "        p_glucose = gaussian_prob(glucose, *stats['glucose'][cls])\n",
        "        p_bp = gaussian_prob(bp, *stats['bloodpressure'][cls])\n",
        "        prior = prior_0 if cls == 0 else prior_1\n",
        "        probs[cls] = p_glucose * p_bp * prior\n",
        "    return max(probs, key=probs.get)\n",
        "\n",
        "# Test cases\n",
        "test_cases = [\n",
        "    (45, 75),\n",
        "    (60, 70),\n",
        "    (30, 80),\n",
        "    (20, 85)\n",
        "]\n",
        "\n",
        "# Print predictions\n",
        "print(\"=== Part A: Custom Naive Bayes ===\")\n",
        "for glucose, bp in test_cases:\n",
        "    prediction = predict_naive_bayes(glucose, bp)\n",
        "    print(f\"\\nGlucose={glucose}, BP={bp} => Predicted Diabetes: {prediction}\")\n"
      ]
    }
  ]
}